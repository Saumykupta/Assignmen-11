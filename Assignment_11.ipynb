{
  "nbformat": 4,
  "nbformat_minor": 0,
  "metadata": {
    "colab": {
      "provenance": []
    },
    "kernelspec": {
      "name": "python3",
      "display_name": "Python 3"
    },
    "language_info": {
      "name": "python"
    }
  },
  "cells": [
    {
      "cell_type": "markdown",
      "source": [
        "**Question1.** Create an assert statement that throws an AssertionError if the variable spam is a negative\n",
        "integer.\n",
        "\n",
        "**Ans:**  assert spam >= 10, 'The spam variable is less than 10.'"
      ],
      "metadata": {
        "id": "GPuMSugzRTvb"
      }
    },
    {
      "cell_type": "markdown",
      "source": [
        "**Question2.** Write an assert statement that triggers an AssertionError if the variables eggs and bacon contain\n",
        "strings that are the same as each other, even if their cases are different (that is, hello' and hello' are\n",
        "considered the same, and &#39;goodbye&#39; and &#39;GOODbye&#39; are also considered the same).\n",
        "\n",
        "**Ans:** assert eggs.lower() != bacon.lower(), 'The eggs and bacon variables are the same!' or assert eggs.upper() != bacon.upper(), 'The eggs and bacon variables are the same!'"
      ],
      "metadata": {
        "id": "EoLWFzmXRuDZ"
      }
    },
    {
      "cell_type": "markdown",
      "source": [
        "**Question3.** Create an assert statement that throws an AssertionError every time.\n",
        "\n",
        "**Ans:** assert False, 'This assertion always triggers.'"
      ],
      "metadata": {
        "id": "KPUg8L88SEgp"
      }
    },
    {
      "cell_type": "markdown",
      "source": [
        "**Question4.** What are the two lines that must be present in your software in order to call logging.debug()?\n",
        "\n",
        "**Ans:**  To be able to call logging.debug(), you must have these two lines at the start of your program:\n",
        "\n",
        "import logging\n",
        "logging.basicConfig(level=logging.DEBUG, format=' %(asctime)s -\n",
        "%(levelname)s - %(message)s')"
      ],
      "metadata": {
        "id": "2Y7vxlNSSQrr"
      }
    },
    {
      "cell_type": "markdown",
      "source": [
        "**Question5.** What are the two lines that your program must have in order to have logging.debug() send a\n",
        "logging message to a file named programLog.txt?\n",
        "\n",
        "**Ans:**  To be able to send logging messages to a file named programLog.txt with logging.debug(), you must have these two lines at the start of your program:\n",
        "\n",
        "import logging\n",
        "\n",
        "logging.basicConfig(filename='programLog.txt', level=logging.DEBUG,\n",
        "\n",
        "format=' %(asctime)s - %(levelname)s - %(message)s')"
      ],
      "metadata": {
        "id": "I0m24mq6Sj7Q"
      }
    },
    {
      "cell_type": "markdown",
      "source": [
        "**Question6.** What are the five levels of logging?\n",
        "\n",
        "**Ans:** DEBUG, INFO, WARNING, ERROR, and CRITICAL"
      ],
      "metadata": {
        "id": "FBENIjgtS1o2"
      }
    },
    {
      "cell_type": "markdown",
      "source": [
        "**Question7.** What line of code would you add to your software to disable all logging messages?\n",
        "\n",
        "**Ans:**  logging.disable(logging.CRITICAL)"
      ],
      "metadata": {
        "id": "nYA4VoRHTAx8"
      }
    },
    {
      "cell_type": "markdown",
      "source": [
        "**Question8.** Why is using logging messages better than using print() to display the same message?\n",
        "\n",
        "**Ans:** You can disable logging messages without removing the logging function calls. You can selectively disable lower-level logging messages. You can create logging messages. Logging messages provides a timestamp."
      ],
      "metadata": {
        "id": "Fywsq8zeTNJZ"
      }
    },
    {
      "cell_type": "markdown",
      "source": [
        "**Question9.** What are the differences between the Step Over, Step In, and Step Out buttons in the debugger?\n",
        "\n",
        "**Ans:** The Step button will move the debugger into a function call. The Over button will quickly execute the function call without stepping into it. The Out button will quickly execute the rest of the code until it steps out of the function it currently is in."
      ],
      "metadata": {
        "id": "OClqm8kcTZHP"
      }
    },
    {
      "cell_type": "markdown",
      "source": [
        "**Question10.** After you click Continue, when will the debugger stop ?\n",
        "\n",
        "**Ans:** After you click Go, the debugger will stop when it has reached the end of the program or a line with a breakpoint."
      ],
      "metadata": {
        "id": "JrZHL4toTqPw"
      }
    },
    {
      "cell_type": "markdown",
      "source": [
        "**Question11.** What is the concept of a breakpoint?\n",
        "\n",
        "**Ans:** A breakpoint is a setting on a line of code that causes the debugger to pause when the program execution reaches the line."
      ],
      "metadata": {
        "id": "TRTKujZXT1yX"
      }
    }
  ]
}